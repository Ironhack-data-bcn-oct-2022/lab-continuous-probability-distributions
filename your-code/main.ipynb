{
 "cells": [
  {
   "cell_type": "markdown",
   "metadata": {},
   "source": [
    "# Before your start:\n",
    "\n",
    "    Read the README.md file\n",
    "    Comment as much as you can and use the resources (README.md file)\n",
    "    Happy learning!"
   ]
  },
  {
   "cell_type": "markdown",
   "metadata": {},
   "source": [
    "In this exercise, we  will generate random numbers from the continuous disributions we learned in the lesson. There are two ways to generate random numbers:\n",
    "\n",
    "1. Using the numpy library \n",
    "1. using the Scipy library \n",
    "\n",
    "Use either or both of the lbraries in this exercise."
   ]
  },
  {
   "cell_type": "markdown",
   "metadata": {},
   "source": [
    "## Uniform Distribution\n",
    "\n",
    "To generate uniform random numbers between any two given values using scipy, we can either use the following code or the code that we have\n",
    "discussed in class:"
   ]
  },
  {
   "cell_type": "code",
   "execution_count": 1,
   "metadata": {},
   "outputs": [],
   "source": [
    "from scipy import stats\n",
    "import matplotlib.pyplot as plt\n",
    "import pandas as pd\n",
    "import numpy as np\n",
    "import math"
   ]
  },
  {
   "cell_type": "code",
   "execution_count": 2,
   "metadata": {},
   "outputs": [
    {
     "name": "stdout",
     "output_type": "stream",
     "text": [
      "[2.07044241 2.17358873 2.34977052 2.06994378 2.05976779 2.77982977\n",
      " 2.45068598 2.9419927  2.69573379 2.62183778]\n"
     ]
    }
   ],
   "source": [
    "from scipy.stats import uniform\n",
    "x = uniform.rvs(size=10)\n",
    "a = 2\n",
    "b = 3\n",
    "randoms  = a + (b-a)*x\n",
    "print(randoms)"
   ]
  },
  {
   "cell_type": "markdown",
   "metadata": {},
   "source": [
    "**Your task:**\n",
    "\n",
    "1. Based on the code above, write a function that generates uniformly distributed random numbers. There are several requirements for your function:\n",
    "    * It should accept 3 parameters: \n",
    "        * `bottom` - the lower boundary of the generated numbers\n",
    "        * `ceiling` - the upper boundary of the generated numbers\n",
    "        * `count` - how many numbers to generate\n",
    "    * It should return an array of uniformly distributed random numbers\n",
    "\n",
    "1. Call your function with 2 sets of params below:\n",
    "    * bottom=10, ceiling=15, count=100\n",
    "    * bottom=10, ceiling=60, count=1,000\n",
    "\n",
    "1. Plot the uniform distributions generated above using histograms, where x axis is the value and y axis is the count. Let the histogram's number of bins be 10.\n",
    "\n",
    "Your output should look like below:\n",
    "\n",
    "![uniform distribution](ud.png)"
   ]
  },
  {
   "cell_type": "code",
   "execution_count": 8,
   "metadata": {},
   "outputs": [
    {
     "name": "stdout",
     "output_type": "stream",
     "text": [
      "[0.27627559 0.51066355 0.78517216 0.27915061 0.8858314  0.88400831\n",
      " 0.52877465 0.4288633  0.08268373 0.89544142 0.45806387 0.28233532\n",
      " 0.05178658 0.07586781 0.69336341 0.07567904 0.47197278 0.09904664\n",
      " 0.33741043 0.3288288  0.35035125 0.01384782 0.55994013 0.14955851\n",
      " 0.53278366 0.16524739 0.8479586  0.79679205 0.71792253 0.99007077\n",
      " 0.17515276 0.28260848 0.87312489 0.73926323 0.27491754 0.46234044\n",
      " 0.98361017 0.16769361 0.80632417 0.30725312 0.5002403  0.41906853\n",
      " 0.56400175 0.24990173 0.69569938 0.97053461 0.54536868 0.17866419\n",
      " 0.24836826 0.72261825 0.36645769 0.05579308 0.72303744 0.45461266\n",
      " 0.56791871 0.7738393  0.06871591 0.27451937 0.12987339 0.35858806\n",
      " 0.47303474 0.55569831 0.73231931 0.51464411 0.85648228 0.18514007\n",
      " 0.99765037 0.68419708 0.70031284 0.84257688 0.44445577 0.70049138\n",
      " 0.02986645 0.23215623 0.69697708 0.15103889 0.58078161 0.33868384\n",
      " 0.58281352 0.49675425 0.8559899  0.02297521 0.31296908 0.01683284\n",
      " 0.13863266 0.94367662 0.45734984 0.43559548 0.75870777 0.96169721\n",
      " 0.37879072 0.6774017  0.71327487 0.77115635 0.85140667 0.7479073\n",
      " 0.24479132 0.26778389 0.52361334 0.91328715]\n",
      "[2.65392212e-01 6.47483053e-01 6.32153772e-01 2.41068372e-01\n",
      " 1.01078732e-02 9.17146617e-01 9.97223402e-01 9.39645327e-01\n",
      " 4.17324172e-01 2.42530685e-01 2.68751205e-01 3.04543606e-01\n",
      " 8.60139380e-01 4.54148088e-02 7.05260487e-01 9.00579719e-01\n",
      " 2.43090461e-01 3.01901079e-01 2.10244445e-01 5.00756315e-01\n",
      " 7.69118793e-01 5.84557428e-01 4.99262615e-01 6.20980278e-01\n",
      " 1.39280520e-01 3.76658294e-02 6.08073050e-01 3.57632311e-01\n",
      " 9.90508897e-01 2.02670155e-01 2.46795563e-01 3.68406075e-01\n",
      " 4.49228029e-01 7.18130802e-01 5.23554767e-01 1.81206215e-02\n",
      " 8.19955616e-01 1.46287202e-01 2.20598016e-01 1.25894499e-02\n",
      " 6.00361148e-02 3.37594091e-01 4.62499435e-02 4.18315223e-02\n",
      " 8.49742077e-01 8.05761834e-01 1.96002327e-01 5.41208666e-01\n",
      " 5.65242476e-01 5.92042170e-01 1.90919200e-01 9.62438233e-01\n",
      " 4.29258598e-01 1.50036445e-01 8.50946614e-01 1.02876839e-01\n",
      " 4.10755601e-01 9.35833075e-01 2.40028872e-01 8.92903571e-01\n",
      " 2.59789767e-01 6.62832342e-01 8.38573633e-01 6.51588002e-01\n",
      " 4.10118057e-01 4.18666477e-01 2.93049416e-01 5.79885623e-01\n",
      " 2.48102691e-01 4.21288237e-01 1.88577776e-02 7.09999847e-01\n",
      " 6.97397992e-01 6.16940888e-01 4.58956374e-01 1.23210246e-01\n",
      " 1.09139445e-01 9.99978988e-02 6.62264506e-01 9.68069713e-01\n",
      " 8.30584799e-01 6.91951253e-02 3.63323597e-01 7.32331906e-02\n",
      " 8.42764927e-01 1.15356666e-01 8.53483557e-01 2.32135097e-01\n",
      " 9.02594462e-01 4.32429585e-01 3.81989685e-01 4.30823641e-01\n",
      " 2.89038929e-01 4.96060797e-02 5.86379569e-01 7.49627240e-01\n",
      " 6.56675846e-01 6.63309744e-01 2.56093399e-01 3.69968835e-01\n",
      " 8.22209134e-01 3.38752191e-01 6.45652481e-01 5.08293217e-01\n",
      " 3.34768846e-01 3.87223309e-01 5.76439336e-01 8.28529756e-01\n",
      " 2.71193277e-01 9.60070265e-01 4.41112574e-01 9.97480671e-01\n",
      " 9.95775228e-01 8.82970568e-02 5.44669893e-01 6.36845556e-01\n",
      " 9.48531965e-02 1.95594208e-01 5.30272382e-01 9.33356081e-01\n",
      " 9.54893732e-01 7.17729862e-01 6.91265933e-02 9.48822639e-01\n",
      " 9.47571517e-01 6.74551171e-01 9.28183275e-01 5.80363513e-01\n",
      " 7.89587815e-01 1.40689029e-01 1.92022174e-01 2.24703436e-01\n",
      " 3.64883905e-01 2.30562615e-01 9.85600422e-01 5.14297333e-01\n",
      " 2.39488928e-01 5.55349466e-01 8.42260210e-01 3.24673885e-01\n",
      " 8.28293217e-01 2.52983634e-03 3.21671714e-01 6.91220609e-01\n",
      " 7.77412982e-01 3.74118830e-01 8.83579692e-02 5.96489091e-01\n",
      " 3.77348450e-01 7.72432124e-01 6.39917769e-01 5.20027035e-01\n",
      " 1.70450773e-01 6.51359640e-01 9.41967063e-01 9.83952360e-01\n",
      " 2.78084620e-01 1.15702991e-01 7.65196053e-01 3.37422917e-01\n",
      " 8.52021847e-02 9.01456556e-01 9.91244370e-01 5.80146176e-03\n",
      " 3.01672297e-01 8.08594866e-01 4.97841459e-01 8.28053851e-01\n",
      " 4.24430861e-01 3.19666727e-01 2.89135223e-01 4.73693456e-01\n",
      " 3.56167989e-01 3.47844044e-02 3.41205208e-02 2.67487368e-01\n",
      " 3.16465965e-01 4.34230855e-01 4.53180635e-01 1.32855522e-01\n",
      " 4.98732863e-01 6.18187277e-01 6.57942159e-01 6.08426745e-01\n",
      " 1.68216894e-01 3.32877428e-01 3.75019636e-01 9.51140491e-01\n",
      " 7.06772026e-01 3.75795026e-01 9.28528224e-01 4.12208869e-01\n",
      " 3.89065480e-01 1.03251820e-01 2.17310309e-01 5.76677596e-01\n",
      " 3.08460154e-01 7.82546876e-02 7.51067961e-01 1.99141916e-01\n",
      " 2.15259578e-01 3.04825831e-01 7.96835408e-01 4.86046879e-01\n",
      " 3.05047917e-01 9.47639810e-01 6.04112081e-01 1.04332964e-01\n",
      " 1.49909592e-01 2.34721486e-01 9.42365989e-01 8.19143095e-01\n",
      " 3.08153462e-01 5.05486511e-01 5.83753846e-02 7.32941308e-03\n",
      " 6.88351736e-01 9.21644705e-02 1.98217912e-02 7.50443192e-02\n",
      " 4.34540200e-01 7.57339981e-01 9.47627361e-01 7.58514039e-01\n",
      " 1.71408760e-01 9.59170671e-01 8.44011035e-01 9.48408335e-02\n",
      " 2.32466776e-01 6.48652007e-01 6.83693813e-02 7.71598438e-01\n",
      " 1.17235472e-01 6.73258642e-01 9.14745689e-01 6.01857177e-01\n",
      " 3.32802308e-02 9.00116715e-01 6.96105262e-01 3.66814311e-01\n",
      " 3.93547670e-01 8.45973154e-01 2.21345156e-01 5.53305586e-01\n",
      " 4.20993713e-01 1.75548856e-02 1.55579704e-01 4.82194201e-01\n",
      " 3.09136190e-01 2.89330270e-01 3.06998527e-01 3.42326489e-01\n",
      " 2.76502464e-01 2.21962120e-01 1.74772213e-01 9.68669287e-01\n",
      " 2.66478796e-01 4.29575730e-01 6.18934941e-01 9.71870924e-01\n",
      " 1.44672967e-01 2.17591122e-01 5.42578182e-01 1.43670231e-02\n",
      " 8.75703387e-01 5.95102819e-01 5.41838372e-01 3.14861384e-01\n",
      " 5.00937661e-01 8.35061338e-01 6.82282192e-01 5.44152311e-01\n",
      " 1.98986552e-01 3.42099029e-01 2.85130935e-01 9.12501478e-01\n",
      " 1.81911188e-01 8.38817270e-02 6.92187711e-01 4.60672749e-01\n",
      " 6.07192293e-01 6.69925969e-01 4.66900239e-01 9.75376666e-01\n",
      " 7.28430942e-03 2.43239446e-01 2.76279842e-01 7.91643492e-01\n",
      " 2.50636717e-01 7.36156525e-02 7.89132075e-01 9.59117848e-03\n",
      " 2.15743046e-01 2.47043141e-01 8.09058969e-01 4.54029140e-01\n",
      " 3.29300327e-01 6.87168857e-01 6.46667677e-01 7.13152361e-01\n",
      " 7.15490292e-02 2.19103454e-01 2.90693120e-01 3.78627327e-02\n",
      " 2.00963226e-01 6.45405728e-01 6.95361253e-02 4.55072231e-01\n",
      " 6.41395079e-01 1.17609793e-01 2.09626798e-01 3.26550859e-01\n",
      " 6.93909181e-01 8.04243214e-01 4.05162996e-01 7.19873870e-01\n",
      " 3.52906617e-01 6.46831944e-01 4.83014169e-01 9.83840106e-01\n",
      " 9.13775708e-01 8.99655742e-01 9.34668902e-02 5.30526440e-01\n",
      " 5.19828127e-01 1.14992901e-01 9.78317053e-01 1.57933738e-01\n",
      " 4.74435246e-01 8.76306362e-01 5.12506880e-01 4.50200422e-01\n",
      " 9.74425200e-01 8.00764405e-01 7.22256112e-01 1.54615468e-01\n",
      " 9.68826141e-01 4.77342281e-01 3.05895099e-01 6.94923819e-01\n",
      " 7.96009147e-01 8.93446934e-01 1.75874088e-01 7.46398969e-01\n",
      " 2.35063568e-01 1.50456734e-01 4.80150890e-01 5.23849332e-01\n",
      " 2.21320346e-01 1.32397437e-01 8.03009007e-01 2.36311775e-01\n",
      " 9.59221692e-01 4.08665218e-01 3.39243717e-01 9.60332062e-01\n",
      " 5.54053709e-01 1.10835532e-01 4.68771892e-01 6.05900358e-01\n",
      " 5.05774297e-01 6.25001969e-02 2.85686392e-01 5.62329871e-01\n",
      " 9.09452094e-01 9.93178266e-01 5.20683429e-01 5.45252401e-01\n",
      " 8.22770747e-01 3.51194523e-02 6.43432361e-01 8.68255953e-01\n",
      " 7.48800744e-01 1.93337882e-01 3.87033016e-01 1.21383502e-01\n",
      " 2.64415044e-01 3.24982694e-01 7.26449989e-01 4.26046321e-02\n",
      " 9.41103620e-01 8.67464308e-01 8.43472798e-01 6.28846659e-01\n",
      " 7.39055395e-01 5.00060624e-01 3.15332610e-01 8.71437248e-01\n",
      " 2.75648028e-01 7.07030011e-01 7.94777235e-01 2.06142348e-01\n",
      " 3.10339821e-01 9.06061923e-01 1.13782525e-01 5.20252292e-01\n",
      " 3.95642075e-01 5.04167642e-01 4.46151320e-01 2.67465613e-01\n",
      " 6.16184530e-01 9.47093472e-01 2.05335213e-01 5.66934614e-01\n",
      " 4.21023337e-01 6.83274264e-01 8.42351593e-01 2.25153654e-01\n",
      " 3.53485002e-01 6.81773496e-01 4.01551781e-01 5.38323335e-01\n",
      " 5.04844765e-01 9.61194288e-01 2.98618973e-02 5.64786600e-01\n",
      " 3.96408504e-01 2.08652403e-01 8.83037012e-01 1.36750166e-01\n",
      " 5.30717794e-01 6.01431130e-01 1.07634222e-01 9.48658289e-01\n",
      " 7.25952467e-01 3.52571090e-01 9.30644855e-01 4.73812170e-01\n",
      " 9.38243172e-01 5.05187262e-01 9.34740618e-02 2.02985122e-01\n",
      " 4.33015082e-01 4.65239553e-01 3.09245705e-01 5.46583360e-01\n",
      " 2.93862374e-01 6.09875216e-01 1.32053629e-01 4.84773731e-01\n",
      " 3.10055465e-01 2.65461039e-01 1.20268509e-01 3.59682809e-01\n",
      " 8.10186393e-01 2.52929039e-01 9.36533983e-01 3.89248855e-01\n",
      " 5.58430537e-01 1.19218805e-01 2.39383829e-01 3.79596196e-01\n",
      " 4.13641761e-01 5.75617517e-01 2.84944726e-02 7.51652770e-01\n",
      " 5.61125440e-01 9.53414971e-02 2.13981083e-01 7.65409543e-01\n",
      " 2.73073045e-01 2.86006467e-01 5.08588090e-01 7.82138142e-01\n",
      " 9.40707374e-01 2.43765811e-01 6.30559220e-01 3.38717548e-01\n",
      " 7.30389343e-01 8.94968552e-01 4.74513403e-01 3.97424704e-01\n",
      " 4.99489956e-01 9.55341273e-01 4.41609307e-01 2.38328959e-01\n",
      " 7.65901818e-02 9.85658111e-01 9.05210924e-01 1.72636409e-02\n",
      " 5.96299298e-01 3.31234278e-01 6.47991148e-01 5.91975058e-01\n",
      " 8.92062352e-01 3.79567354e-01 8.81227073e-01 7.87503733e-01\n",
      " 6.85539904e-01 3.90779104e-01 6.38853820e-01 1.21559596e-02\n",
      " 5.47565090e-01 1.65126314e-01 7.89459486e-01 4.67587025e-01\n",
      " 9.68906162e-01 2.79865504e-02 8.49296023e-01 4.41706214e-01\n",
      " 7.20508694e-01 1.23581803e-01 7.77178780e-01 3.77084190e-01\n",
      " 8.51714052e-01 1.52881772e-01 2.76873214e-02 3.68082326e-01\n",
      " 1.71822863e-01 9.15435383e-01 9.93273374e-01 1.02607823e-01\n",
      " 2.94482381e-01 8.33621669e-01 7.63552943e-01 5.56123458e-01\n",
      " 1.17754388e-01 5.15207804e-01 3.09372927e-02 3.55824642e-01\n",
      " 2.25826654e-01 4.83002741e-01 8.64920242e-01 2.96728326e-01\n",
      " 1.61210286e-01 1.96863309e-02 8.18828159e-01 7.59507976e-01\n",
      " 4.93365562e-01 7.82293260e-01 5.83905188e-01 9.82956550e-01\n",
      " 1.91930281e-02 8.82260142e-01 4.88476142e-01 2.38760067e-02\n",
      " 4.11067606e-01 7.06470158e-01 5.14476964e-01 4.82089809e-01\n",
      " 1.74553371e-01 5.92765567e-02 1.45866544e-01 2.60965964e-01\n",
      " 5.79421119e-01 3.65334038e-01 2.13352559e-01 9.77292756e-01\n",
      " 8.97376705e-02 3.55805964e-01 1.73500101e-01 4.48317017e-01\n",
      " 6.63141045e-01 6.60794556e-01 9.64752196e-01 7.93330426e-01\n",
      " 5.19608775e-01 8.74176524e-01 7.63104210e-01 2.66951106e-02\n",
      " 9.98734250e-01 9.11335190e-01 6.45787625e-01 4.55019013e-01\n",
      " 1.66629874e-01 5.89828543e-01 2.74728259e-01 7.31404576e-01\n",
      " 2.13415290e-01 5.82426085e-01 8.74574816e-01 8.56251525e-01\n",
      " 9.37234385e-01 9.79131697e-01 4.88855321e-01 9.39043813e-01\n",
      " 5.77460738e-01 6.63344494e-01 1.52392068e-01 2.55468578e-01\n",
      " 5.63038435e-01 8.76962363e-01 4.90808614e-01 1.45715364e-02\n",
      " 7.23568734e-01 3.69539795e-01 1.19950998e-01 7.17272655e-01\n",
      " 8.64927999e-01 8.69389380e-01 5.22625015e-02 4.09881899e-01\n",
      " 7.68518931e-01 4.39397186e-01 9.29824158e-01 9.00905611e-01\n",
      " 2.79075195e-01 3.83015232e-01 8.73300108e-01 1.41214104e-01\n",
      " 8.46401393e-01 5.66871539e-01 4.26848348e-01 5.88162548e-01\n",
      " 9.40415969e-01 1.01416570e-01 5.47935868e-01 1.04222378e-01\n",
      " 2.56755677e-01 8.98749027e-01 7.91794582e-01 6.58093045e-01\n",
      " 7.94098739e-01 7.90405289e-01 2.71390927e-01 7.72634885e-01\n",
      " 7.49569421e-01 8.11820666e-01 8.60540521e-01 6.88783872e-01\n",
      " 5.23416851e-02 9.54033407e-01 8.52570633e-01 7.00749612e-01\n",
      " 8.18479583e-01 1.65375013e-01 5.99989305e-01 2.43972147e-01\n",
      " 4.37413577e-01 8.69891006e-01 7.68014853e-01 5.62567282e-01\n",
      " 4.04966364e-01 1.67781833e-01 5.53317850e-01 6.20510575e-01\n",
      " 3.09319030e-01 1.16912606e-01 9.73103017e-01 2.32806313e-01\n",
      " 3.94900622e-01 5.67644041e-01 7.89590920e-01 5.28367580e-02\n",
      " 3.51819700e-01 3.67902881e-01 4.48375140e-01 5.48697552e-01\n",
      " 5.90507276e-01 3.61833273e-01 3.78670596e-01 3.04360573e-01\n",
      " 8.14574806e-01 4.25352289e-01 5.57267660e-01 4.09094482e-01\n",
      " 1.63339497e-01 6.18980022e-02 5.05616065e-01 4.82548316e-02\n",
      " 8.44671080e-01 3.83314958e-01 3.90115167e-01 6.55331187e-01\n",
      " 6.27864698e-01 1.46069035e-01 1.28428567e-01 6.35843247e-01\n",
      " 5.20956294e-01 6.66477719e-01 6.40559727e-03 8.63916079e-01\n",
      " 1.48379168e-01 2.13895527e-01 3.19157348e-01 7.49755863e-02\n",
      " 5.51324930e-02 5.62200469e-01 4.64083917e-01 9.51598305e-03\n",
      " 7.09477078e-01 2.35459047e-01 5.80920747e-03 2.74680829e-01\n",
      " 1.99220109e-01 9.09666765e-01 4.91051526e-01 3.34897630e-01\n",
      " 5.52748454e-01 7.17542288e-01 1.77616624e-01 9.71672910e-01\n",
      " 8.58389462e-01 6.35949962e-02 4.60187689e-01 9.67764042e-01\n",
      " 2.11230866e-01 6.21717123e-01 8.21127011e-01 1.03335153e-01\n",
      " 8.52114073e-01 5.98222792e-01 8.06796359e-02 2.05561523e-01\n",
      " 9.86284903e-01 8.14373395e-01 6.93470216e-01 3.01363117e-01\n",
      " 5.55033231e-01 3.46102601e-01 6.88406473e-01 1.16456328e-01\n",
      " 3.03320435e-01 8.17597807e-01 4.09876314e-01 5.62484879e-01\n",
      " 9.64421554e-01 7.44965190e-01 7.20545274e-01 1.13669342e-01\n",
      " 1.20416067e-01 6.87257198e-01 7.34088264e-01 6.67490516e-01\n",
      " 8.40172677e-02 6.37716929e-01 7.47092389e-01 3.59339188e-01\n",
      " 3.76142298e-01 5.13959797e-01 7.46457401e-01 7.22200287e-01\n",
      " 5.75965028e-01 1.48096966e-01 6.21013497e-02 5.98000249e-02\n",
      " 9.66715548e-02 2.19304025e-01 6.94058668e-02 2.87744626e-01\n",
      " 3.22595495e-01 6.01177825e-01 6.29231460e-01 3.41542725e-02\n",
      " 5.49494857e-01 9.63462558e-01 9.12607646e-01 6.26074043e-01\n",
      " 7.80398989e-01 3.04971037e-01 7.80497311e-01 3.60528464e-01\n",
      " 2.78238409e-01 7.86093447e-01 1.15832886e-01 6.11517274e-02\n",
      " 1.11617426e-01 4.77972329e-01 1.46447561e-02 4.02330177e-01\n",
      " 2.92000658e-02 7.02891243e-01 7.94947155e-01 5.34612088e-01\n",
      " 3.18740988e-02 3.67756178e-02 8.39954243e-01 2.87787553e-01\n",
      " 6.40431827e-01 3.22230270e-01 5.26991581e-01 8.01959184e-02\n",
      " 2.80095943e-01 9.21303182e-01 3.25542391e-01 5.02502443e-01\n",
      " 7.37438814e-01 1.74617686e-01 5.27748625e-02 4.43218353e-01\n",
      " 1.53298228e-01 6.75488532e-01 1.46084560e-01 8.65029949e-02\n",
      " 8.47514968e-01 5.96534840e-01 7.65173194e-02 3.11218244e-01\n",
      " 5.68784399e-01 6.19097801e-01 9.51165809e-01 1.29508836e-01\n",
      " 4.01971911e-02 7.11800711e-01 6.59853614e-01 8.61105033e-02\n",
      " 7.95914151e-01 1.21823599e-01 1.45083805e-01 6.56375386e-01\n",
      " 5.42982873e-04 6.68217823e-01 6.33199411e-01 9.04962473e-01\n",
      " 3.77654939e-01 3.43021974e-01 4.14887748e-01 8.68280280e-01\n",
      " 7.96349078e-01 5.79682291e-01 1.55965498e-01 4.15277939e-01\n",
      " 3.67872529e-01 5.44558574e-01 2.88491886e-02 6.61045941e-01\n",
      " 4.61057614e-01 1.14207136e-02 2.79750851e-01 8.48174929e-01\n",
      " 6.33562630e-01 2.84389201e-01 2.53190399e-01 6.67451697e-01\n",
      " 7.27881000e-01 2.40550636e-01 9.05087483e-01 8.41796287e-01\n",
      " 9.96827333e-01 3.92416847e-01 9.11178479e-01 5.79216423e-01\n",
      " 3.96474670e-01 5.21177535e-01 4.37126184e-01 6.16848979e-01\n",
      " 1.25784127e-01 3.78605146e-01 1.02422959e-01 4.67396905e-01\n",
      " 5.83555500e-02 2.82362704e-01 5.09398208e-01 4.09121882e-01\n",
      " 8.60796395e-01 4.90669142e-01 6.19813414e-01 5.79260588e-01\n",
      " 3.10923642e-01 7.33014613e-01 4.62416307e-01 9.70372848e-01\n",
      " 5.73240384e-01 1.30090818e-01 2.00807817e-01 2.26334115e-01\n",
      " 1.56096619e-01 2.24007193e-01 2.27460187e-01 8.21907052e-01\n",
      " 8.30871367e-01 7.45464623e-01 8.63688022e-01 3.92668191e-01\n",
      " 1.71936730e-01 6.56261621e-01 9.29158533e-01 9.17465453e-01\n",
      " 1.87166980e-01 7.72188441e-01 9.16301757e-01 3.01576727e-01\n",
      " 4.13750164e-01 4.01499780e-01 4.16987382e-01 4.44015097e-01\n",
      " 4.91679408e-01 3.23747736e-01 5.01671787e-01 3.84360690e-01\n",
      " 4.82712185e-01 1.32568467e-01 3.51776744e-01 9.61264937e-01\n",
      " 1.14426813e-01 8.85643391e-01 6.61554596e-01 4.98462174e-02\n",
      " 3.35097547e-02 3.93431818e-01 1.21406969e-01 2.18141046e-01\n",
      " 5.49085463e-01 8.92942401e-01 2.75738971e-02 7.89380817e-01\n",
      " 4.38557279e-01 9.86267485e-02 3.52029252e-01 1.46543241e-01\n",
      " 7.90872767e-01 4.67972100e-01 9.04457763e-02 4.97987480e-01\n",
      " 9.38718378e-01 5.32721686e-01 3.71306593e-01 9.39682740e-01\n",
      " 3.82411460e-01 6.76385870e-01 1.92691401e-01 6.96866882e-01\n",
      " 6.49519395e-01 7.80915542e-01 7.14651088e-01 4.26040340e-01\n",
      " 5.09797602e-01 7.05726489e-01 3.56646122e-01 3.92682063e-01\n",
      " 1.26445791e-01 7.39838751e-02 1.18050501e-01 4.53096654e-01\n",
      " 1.86504277e-01 6.30826292e-01 1.31393149e-01 7.73184665e-01\n",
      " 8.90824544e-02 5.15820613e-01 9.48829513e-01 4.82597611e-01\n",
      " 9.33791158e-01 2.23190227e-01 4.98440642e-02 3.13995709e-02\n",
      " 5.50090384e-01 6.15509128e-01 9.81030930e-01 2.09922273e-01\n",
      " 2.53801203e-01 3.05050187e-01 5.67194133e-01 8.38878640e-02\n",
      " 1.70522117e-01 5.14194080e-01 2.37259364e-01 8.92183744e-01\n",
      " 1.45064388e-01 2.32799364e-01 6.60091201e-01 5.25790653e-01\n",
      " 2.90053357e-01 9.10736519e-01 8.67871271e-01 5.04372308e-01\n",
      " 2.14670810e-02 4.56457073e-01 9.95905837e-01 6.60611151e-01\n",
      " 8.85140018e-01 5.90133400e-01 5.02930857e-01 6.70223516e-01\n",
      " 4.11455467e-01 3.14522809e-02 5.60044149e-01 2.82116521e-01\n",
      " 4.27654023e-01 9.79977635e-01 9.62925428e-01 3.89382798e-01\n",
      " 1.98976672e-01 5.81536421e-01 7.23867269e-01 2.14778183e-01\n",
      " 9.54063102e-01 4.20362496e-01 4.57123888e-01 2.38336893e-01\n",
      " 7.77054356e-01 6.98483766e-01 8.25619661e-01 7.51163772e-01\n",
      " 9.37001912e-01 6.25444126e-01 5.82329415e-01 8.04660321e-01\n",
      " 4.09663052e-01 6.54618858e-01 2.06597960e-01 9.13105889e-01\n",
      " 8.37763122e-01 4.53558058e-01 3.02450789e-01 6.26618478e-01\n",
      " 2.90368697e-01 5.48958887e-01 3.27167632e-01 7.23309593e-01]\n"
     ]
    },
    {
     "data": {
      "text/plain": [
       "(array([106., 100., 108., 110., 100., 108.,  97.,  86.,  83., 102.]),\n",
       " array([10.02714914, 15.01810548, 20.00906181, 25.00001815, 29.99097448,\n",
       "        34.98193082, 39.97288715, 44.96384349, 49.95479982, 54.94575616,\n",
       "        59.93671249]),\n",
       " <BarContainer object of 10 artists>)"
      ]
     },
     "execution_count": 8,
     "metadata": {},
     "output_type": "execute_result"
    },
    {
     "data": {
      "image/png": "[encoded data removed]",
      "text/plain": [
       "<Figure size 432x288 with 2 Axes>"
      ]
     },
     "metadata": {
      "needs_background": "light"
     },
     "output_type": "display_data"
    }
   ],
   "source": [
    "# your code here\n",
    "def generate_uniform(bottom, ceiling, count):\n",
    "    x = stats.uniform.rvs(size=count)\n",
    "    print(x)\n",
    "    a = bottom\n",
    "    b = ceiling\n",
    "    randoms = a + (b-a)*x\n",
    "    return randoms\n",
    "\n",
    "u1 = generate_uniform(bottom=10, ceiling=15, count=100)\n",
    "u2= generate_uniform(bottom=10, ceiling=60, count=1000)\n",
    "\n",
    "fig, (ax1, ax2) = plt.subplots(1, 2, sharey=True)\n",
    "ax1.hist(u1, bins = 10)\n",
    "ax2.hist(u2, bins = 10)"
   ]
  },
  {
   "cell_type": "markdown",
   "metadata": {},
   "source": [
    "How are the two distributions different?"
   ]
  },
  {
   "cell_type": "code",
   "execution_count": 6,
   "metadata": {},
   "outputs": [],
   "source": [
    "# They differ in their range of values"
   ]
  },
  {
   "cell_type": "markdown",
   "metadata": {},
   "source": [
    "## Normal Distribution\n",
    "\n",
    "1. In the same way in the Uniform Distribution challenge, write a function that generates normally distributed random numbers.\n",
    "1. Generate 1,000 normally distributed numbers with the average of 10 and standard deviation of 1\n",
    "1. Generate 1,000 normally distributed numbers with the average of 10 and standard deviation of 50\n",
    "2. Plot the distributions of the data generated.\n",
    "\n",
    "Expected output:\n",
    "\n",
    "![normal distribution](nd.png)"
   ]
  },
  {
   "cell_type": "code",
   "execution_count": 7,
   "metadata": {},
   "outputs": [
    {
     "data": {
      "text/plain": [
       "(array([ 1.,  0.,  0.,  0.,  1.,  1.,  4.,  4.,  3.,  7.,  4.,  7., 18.,\n",
       "        18., 25., 18., 33., 31., 36., 33., 34., 49., 59., 60., 42., 60.,\n",
       "        42., 45., 47., 43., 30., 41., 25., 33., 35., 29., 20., 14., 11.,\n",
       "         9.,  7.,  7.,  3.,  4.,  3.,  0.,  0.,  2.,  0.,  2.]),\n",
       " array([-156.39583822, -149.83227753, -143.26871685, -136.70515616,\n",
       "        -130.14159548, -123.57803479, -117.01447411, -110.45091342,\n",
       "        -103.88735274,  -97.32379205,  -90.76023137,  -84.19667069,\n",
       "         -77.63311   ,  -71.06954932,  -64.50598863,  -57.94242795,\n",
       "         -51.37886726,  -44.81530658,  -38.25174589,  -31.68818521,\n",
       "         -25.12462452,  -18.56106384,  -11.99750315,   -5.43394247,\n",
       "           1.12961822,    7.6931789 ,   14.25673958,   20.82030027,\n",
       "          27.38386095,   33.94742164,   40.51098232,   47.07454301,\n",
       "          53.63810369,   60.20166438,   66.76522506,   73.32878575,\n",
       "          79.89234643,   86.45590712,   93.0194678 ,   99.58302849,\n",
       "         106.14658917,  112.71014985,  119.27371054,  125.83727122,\n",
       "         132.40083191,  138.96439259,  145.52795328,  152.09151396,\n",
       "         158.65507465,  165.21863533,  171.78219602]),\n",
       " <BarContainer object of 50 artists>)"
      ]
     },
     "execution_count": 7,
     "metadata": {},
     "output_type": "execute_result"
    },
    {
     "data": {
      "image/png": "[encoded data removed]",
      "text/plain": [
       "<Figure size 432x288 with 2 Axes>"
      ]
     },
     "metadata": {
      "needs_background": "light"
     },
     "output_type": "display_data"
    }
   ],
   "source": [
    "# your code here\n",
    "def generate_normal(mean, std):\n",
    "    normal = stats.norm(mean, std)\n",
    "    return normal.rvs(size=1000)\n",
    "n1 = generate_normal(10,1)\n",
    "n2 = generate_normal(10,50)\n",
    "\n",
    "fig, (ax1, ax2) = plt.subplots(1, 2, sharey = True)\n",
    "ax1.hist(n1, bins=50)\n",
    "ax2.hist(n2, bins=50)"
   ]
  },
  {
   "cell_type": "markdown",
   "metadata": {},
   "source": [
    "How are the two distributions different?"
   ]
  },
  {
   "cell_type": "code",
   "execution_count": 9,
   "metadata": {},
   "outputs": [],
   "source": [
    "#  They differ in their range of values"
   ]
  },
  {
   "cell_type": "markdown",
   "metadata": {},
   "source": [
    "## Normal Distribution of Real Data\n",
    "\n",
    "In this challenge we are going to take a look the real data. We will use vehicles.csv file for this exercise"
   ]
  },
  {
   "cell_type": "markdown",
   "metadata": {},
   "source": [
    "First import vehicles.csv.\n",
    "Then plot the histograms for the following variables:\n",
    "\n",
    "1. Fuel Barrels/Year"
   ]
  },
  {
   "cell_type": "code",
   "execution_count": 13,
   "metadata": {},
   "outputs": [],
   "source": [
    "# your code here\n",
    "vehicles = pd.read_csv('./vehicles.csv')"
   ]
  },
  {
   "cell_type": "markdown",
   "metadata": {},
   "source": [
    "2. CO2 Emission Grams/Mile "
   ]
  },
  {
   "cell_type": "code",
   "execution_count": 14,
   "metadata": {},
   "outputs": [
    {
     "data": {
      "text/plain": [
       "(array([9.000e+00, 2.100e+01, 2.800e+01, 2.130e+02, 5.950e+02, 2.410e+03,\n",
       "        4.016e+03, 7.043e+03, 6.377e+03, 5.770e+03, 2.459e+03, 2.422e+03,\n",
       "        1.980e+03, 1.262e+03, 7.120e+02, 4.430e+02, 3.000e+00, 1.270e+02,\n",
       "        0.000e+00, 3.600e+01, 0.000e+00, 2.100e+01, 0.000e+00, 0.000e+00,\n",
       "        5.000e+00]),\n",
       " array([  37.        ,   86.30285714,  135.60571429,  184.90857143,\n",
       "         234.21142857,  283.51428571,  332.81714286,  382.12      ,\n",
       "         431.42285714,  480.72571429,  530.02857143,  579.33142857,\n",
       "         628.63428571,  677.93714286,  727.24      ,  776.54285714,\n",
       "         825.84571429,  875.14857143,  924.45142857,  973.75428571,\n",
       "        1023.05714286, 1072.36      , 1121.66285714, 1170.96571429,\n",
       "        1220.26857143, 1269.57142857]),\n",
       " <BarContainer object of 25 artists>)"
      ]
     },
     "execution_count": 14,
     "metadata": {},
     "output_type": "execute_result"
    },
    {
     "data": {
      "image/png": "[encoded data removed]",
      "text/plain": [
       "<Figure size 432x288 with 1 Axes>"
      ]
     },
     "metadata": {
      "needs_background": "light"
     },
     "output_type": "display_data"
    }
   ],
   "source": [
    "# your code here\n",
    "plt.hist(vehicles['CO2 Emission Grams/Mile'], bins= 25)"
   ]
  },
  {
   "cell_type": "markdown",
   "metadata": {},
   "source": [
    "3. Combined MPG"
   ]
  },
  {
   "cell_type": "code",
   "execution_count": 15,
   "metadata": {},
   "outputs": [
    {
     "data": {
      "text/plain": [
       "(array([2.600e+01, 1.710e+02, 1.182e+03, 3.202e+03, 4.556e+03, 5.979e+03,\n",
       "        6.375e+03, 5.405e+03, 3.340e+03, 2.345e+03, 1.331e+03, 8.240e+02,\n",
       "        4.300e+02, 3.380e+02, 1.290e+02, 8.400e+01, 8.800e+01, 7.500e+01,\n",
       "        1.200e+01, 1.600e+01, 1.800e+01, 1.500e+01, 5.000e+00, 4.000e+00,\n",
       "        2.000e+00]),\n",
       " array([ 7.  ,  8.96, 10.92, 12.88, 14.84, 16.8 , 18.76, 20.72, 22.68,\n",
       "        24.64, 26.6 , 28.56, 30.52, 32.48, 34.44, 36.4 , 38.36, 40.32,\n",
       "        42.28, 44.24, 46.2 , 48.16, 50.12, 52.08, 54.04, 56.  ]),\n",
       " <BarContainer object of 25 artists>)"
      ]
     },
     "execution_count": 15,
     "metadata": {},
     "output_type": "execute_result"
    },
    {
     "data": {
      "image/png": "[encoded data removed]",
      "text/plain": [
       "<Figure size 432x288 with 1 Axes>"
      ]
     },
     "metadata": {
      "needs_background": "light"
     },
     "output_type": "display_data"
    }
   ],
   "source": [
    "# your code here\n",
    "plt.hist(vehicles['Combined MPG'], bins= 25)"
   ]
  },
  {
   "cell_type": "markdown",
   "metadata": {},
   "source": [
    "Which one(s) of the variables are nearly normally distributed? How do you know?"
   ]
  },
  {
   "cell_type": "code",
   "execution_count": 16,
   "metadata": {},
   "outputs": [],
   "source": [
    "# I can't know for sure until we perfom a test for normality, but Combined MPG has more of a gaussian shape than CO2 emissions"
   ]
  },
  {
   "cell_type": "markdown",
   "metadata": {},
   "source": [
    "## Exponential Distribution"
   ]
  },
  {
   "cell_type": "markdown",
   "metadata": {},
   "source": [
    "1. Using `numpy.random.exponential`, create a function that returns a list of numbers exponentially distributed with the mean of 10. \n",
    "\n",
    "1. Use the function to generate two number sequences with the size of 10 and 100.\n",
    "\n",
    "1. Plot the distributions as histograms with the nubmer of bins as 100.\n",
    "\n",
    "Your output should look like below:\n",
    "\n",
    "![exponential distribution](ed.png)"
   ]
  },
  {
   "cell_type": "code",
   "execution_count": 17,
   "metadata": {},
   "outputs": [
    {
     "data": {
      "text/plain": [
       "(array([81., 65., 68., 49., 48., 38., 49., 40., 37., 40., 35., 34., 21.,\n",
       "        30., 21., 25., 19., 26., 14., 19., 11., 13., 12., 15., 15.,  9.,\n",
       "         9.,  7., 14.,  8., 10., 17.,  7.,  7.,  3.,  4.,  5.,  4.,  3.,\n",
       "         5.,  5.,  3.,  4.,  4.,  3.,  2.,  5.,  1.,  4.,  1.,  4.,  2.,\n",
       "         1.,  2.,  2.,  1.,  1.,  1.,  1.,  0.,  0.,  0.,  2.,  1.,  2.,\n",
       "         0.,  1.,  2.,  1.,  1.,  1.,  0.,  0.,  0.,  1.,  0.,  0.,  0.,\n",
       "         0.,  1.,  0.,  1.,  0.,  0.,  0.,  0.,  0.,  1.,  0.,  0.,  0.,\n",
       "         0.,  0.,  0.,  0.,  0.,  0.,  0.,  0.,  1.]),\n",
       " array([1.92601188e-01, 7.08480822e+00, 1.39770152e+01, 2.08692223e+01,\n",
       "        2.77614293e+01, 3.46536363e+01, 4.15458434e+01, 4.84380504e+01,\n",
       "        5.53302574e+01, 6.22224645e+01, 6.91146715e+01, 7.60068785e+01,\n",
       "        8.28990855e+01, 8.97912926e+01, 9.66834996e+01, 1.03575707e+02,\n",
       "        1.10467914e+02, 1.17360121e+02, 1.24252328e+02, 1.31144535e+02,\n",
       "        1.38036742e+02, 1.44928949e+02, 1.51821156e+02, 1.58713363e+02,\n",
       "        1.65605570e+02, 1.72497777e+02, 1.79389984e+02, 1.86282191e+02,\n",
       "        1.93174398e+02, 2.00066605e+02, 2.06958812e+02, 2.13851019e+02,\n",
       "        2.20743226e+02, 2.27635433e+02, 2.34527640e+02, 2.41419847e+02,\n",
       "        2.48312054e+02, 2.55204261e+02, 2.62096468e+02, 2.68988675e+02,\n",
       "        2.75880882e+02, 2.82773089e+02, 2.89665296e+02, 2.96557503e+02,\n",
       "        3.03449710e+02, 3.10341918e+02, 3.17234125e+02, 3.24126332e+02,\n",
       "        3.31018539e+02, 3.37910746e+02, 3.44802953e+02, 3.51695160e+02,\n",
       "        3.58587367e+02, 3.65479574e+02, 3.72371781e+02, 3.79263988e+02,\n",
       "        3.86156195e+02, 3.93048402e+02, 3.99940609e+02, 4.06832816e+02,\n",
       "        4.13725023e+02, 4.20617230e+02, 4.27509437e+02, 4.34401644e+02,\n",
       "        4.41293851e+02, 4.48186058e+02, 4.55078265e+02, 4.61970472e+02,\n",
       "        4.68862679e+02, 4.75754886e+02, 4.82647093e+02, 4.89539300e+02,\n",
       "        4.96431507e+02, 5.03323714e+02, 5.10215921e+02, 5.17108128e+02,\n",
       "        5.24000335e+02, 5.30892542e+02, 5.37784749e+02, 5.44676957e+02,\n",
       "        5.51569164e+02, 5.58461371e+02, 5.65353578e+02, 5.72245785e+02,\n",
       "        5.79137992e+02, 5.86030199e+02, 5.92922406e+02, 5.99814613e+02,\n",
       "        6.06706820e+02, 6.13599027e+02, 6.20491234e+02, 6.27383441e+02,\n",
       "        6.34275648e+02, 6.41167855e+02, 6.48060062e+02, 6.54952269e+02,\n",
       "        6.61844476e+02, 6.68736683e+02, 6.75628890e+02, 6.82521097e+02,\n",
       "        6.89413304e+02]),\n",
       " <BarContainer object of 100 artists>)"
      ]
     },
     "execution_count": 17,
     "metadata": {},
     "output_type": "execute_result"
    },
    {
     "data": {
      "image/png": "[encoded data removed]",
      "text/plain": [
       "<Figure size 432x288 with 2 Axes>"
      ]
     },
     "metadata": {
      "needs_background": "light"
     },
     "output_type": "display_data"
    }
   ],
   "source": [
    "# your code here\n",
    "def generate_exp(mean):\n",
    "    return np.random.exponential(mean, size= 1000)\n",
    "\n",
    "e1 = generate_exp(1)\n",
    "e2 = generate_exp(100)\n",
    "fig, (ax1, ax2) = plt.subplots(1, 2, sharey = True)\n",
    "ax1.hist(e1, bins=100)\n",
    "ax2.hist(e2, bins=100)"
   ]
  },
  {
   "cell_type": "markdown",
   "metadata": {},
   "source": [
    "How are the two distributions different?"
   ]
  },
  {
   "cell_type": "markdown",
   "metadata": {},
   "source": [
    "## Exponential Distribution of Real Data\n",
    "\n",
    "Suppose that the amount of time one spends in a bank is exponentially distributed with mean as 10 minutes (i.e. λ = 1/10). What is the probability that a customer will spend less than fifteen minutes in the bank? \n",
    "\n",
    "Write a code in python to solve this problem"
   ]
  },
  {
   "cell_type": "code",
   "execution_count": 18,
   "metadata": {},
   "outputs": [
    {
     "name": "stdout",
     "output_type": "stream",
     "text": [
      "0.7768698398515702\n"
     ]
    }
   ],
   "source": [
    "# your answer here\n",
    "# Hint: This is same as saying P(x<15)\n",
    "lamb = 1/10\n",
    "exp = stats.expon(scale=10)\n",
    "print(exp.cdf(15))  "
   ]
  },
  {
   "cell_type": "markdown",
   "metadata": {},
   "source": [
    "What is the probability that the customer will spend more than 15 minutes"
   ]
  },
  {
   "cell_type": "code",
   "execution_count": 19,
   "metadata": {},
   "outputs": [
    {
     "data": {
      "text/plain": [
       "0.2231301601484298"
      ]
     },
     "execution_count": 19,
     "metadata": {},
     "output_type": "execute_result"
    }
   ],
   "source": [
    "# your answer here\n",
    "1 - exp.cdf(15)"
   ]
  },
  {
   "cell_type": "code",
   "execution_count": 20,
   "metadata": {},
   "outputs": [
    {
     "data": {
      "text/plain": [
       "[<matplotlib.lines.Line2D at 0x1a614682160>]"
      ]
     },
     "execution_count": 20,
     "metadata": {},
     "output_type": "execute_result"
    },
    {
     "data": {
      "image/png": "[encoded data removed]",
      "text/plain": [
       "<Figure size 432x288 with 1 Axes>"
      ]
     },
     "metadata": {
      "needs_background": "light"
     },
     "output_type": "display_data"
    }
   ],
   "source": [
    "x = np.linspace(exp.ppf(0.01), exp.ppf(0.99), 100)\n",
    "y = exp.pdf(x)\n",
    "plt.plot(x, y)\n"
   ]
  }
 ],
 "metadata": {
  "kernelspec": {
   "display_name": "Python 3.9.12 ('base')",
   "language": "python",
   "name": "python3"
  },
  "language_info": {
   "codemirror_mode": {
    "name": "ipython",
    "version": 3
   },
   "file_extension": ".py",
   "mimetype": "text/x-python",
   "name": "python",
   "nbconvert_exporter": "python",
   "pygments_lexer": "ipython3",
   "version": "3.9.12"
  },
  "vscode": {
   "interpreter": {
    "hash": "8e76f8642360a3358ab06c318ab18c1161224eb3836609d5c16edea6f6e43dba"
   }
  }
 },
 "nbformat": 4,
 "nbformat_minor": 2
}
